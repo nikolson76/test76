{
  "nbformat": 4,
  "nbformat_minor": 0,
  "metadata": {
    "colab": {
      "provenance": [],
      "authorship_tag": "ABX9TyNZrnhRDto/JIkjdtrcWRi9",
      "include_colab_link": true
    },
    "kernelspec": {
      "name": "python3",
      "display_name": "Python 3"
    },
    "language_info": {
      "name": "python"
    }
  },
  "cells": [
    {
      "cell_type": "markdown",
      "metadata": {
        "id": "view-in-github",
        "colab_type": "text"
      },
      "source": [
        "<a href=\"https://colab.research.google.com/github/nikolson76/test76/blob/main/Untitled.ipynb\" target=\"_parent\"><img src=\"https://colab.research.google.com/assets/colab-badge.svg\" alt=\"Open In Colab\"/></a>"
      ]
    },
    {
      "cell_type": "code",
      "source": [
        "pip install requests pytest"
      ],
      "metadata": {
        "colab": {
          "base_uri": "https://localhost:8080/"
        },
        "id": "nIrdeDC63ujF",
        "outputId": "704145a2-25c0-467a-ed9b-bc20d5d525e3"
      },
      "execution_count": 64,
      "outputs": [
        {
          "output_type": "stream",
          "name": "stdout",
          "text": [
            "Requirement already satisfied: requests in /usr/local/lib/python3.12/dist-packages (2.32.4)\n",
            "Requirement already satisfied: pytest in /usr/local/lib/python3.12/dist-packages (8.4.2)\n",
            "Requirement already satisfied: charset_normalizer<4,>=2 in /usr/local/lib/python3.12/dist-packages (from requests) (3.4.3)\n",
            "Requirement already satisfied: idna<4,>=2.5 in /usr/local/lib/python3.12/dist-packages (from requests) (3.10)\n",
            "Requirement already satisfied: urllib3<3,>=1.21.1 in /usr/local/lib/python3.12/dist-packages (from requests) (2.5.0)\n",
            "Requirement already satisfied: certifi>=2017.4.17 in /usr/local/lib/python3.12/dist-packages (from requests) (2025.8.3)\n",
            "Requirement already satisfied: iniconfig>=1 in /usr/local/lib/python3.12/dist-packages (from pytest) (2.1.0)\n",
            "Requirement already satisfied: packaging>=20 in /usr/local/lib/python3.12/dist-packages (from pytest) (25.0)\n",
            "Requirement already satisfied: pluggy<2,>=1.5 in /usr/local/lib/python3.12/dist-packages (from pytest) (1.6.0)\n",
            "Requirement already satisfied: pygments>=2.7.2 in /usr/local/lib/python3.12/dist-packages (from pytest) (2.19.2)\n"
          ]
        }
      ]
    },
    {
      "cell_type": "code",
      "source": [
        "import requests\n",
        "import time"
      ],
      "metadata": {
        "id": "1OX2T3iM37Yc"
      },
      "execution_count": 65,
      "outputs": []
    },
    {
      "cell_type": "code",
      "source": [
        "BASE_URL = \"https://petstore.swagger.io/v2/\"\n",
        "\n",
        "test_pet = {\n",
        "    \"id\": 6556,\n",
        "    \"name\": \"Frank\",\n",
        "    \"status\": \"available\"\n",
        "}"
      ],
      "metadata": {
        "id": "9u4ijaDQ4B3v"
      },
      "execution_count": 66,
      "outputs": []
    },
    {
      "cell_type": "code",
      "source": [
        "def test_post_order():\n",
        "    response = requests.post(f\"{BASE_URL}pet\", json=test_pet)\n",
        "    assert response.status_code == 200\n",
        "    print(\"Питомец добавлен\")\n",
        "    return response.json()"
      ],
      "metadata": {
        "id": "ByOFKTfN4HiE"
      },
      "execution_count": 67,
      "outputs": []
    },
    {
      "cell_type": "code",
      "source": [
        "def test_get_order():\n",
        "    time.sleep(1) # Задержка для обработки на сервере\n",
        "    response = requests.get(f\"{BASE_URL}pet/6556\")\n",
        "    assert response.status_code == 200\n",
        "    print(\"Питомец найден\")"
      ],
      "metadata": {
        "id": "Uv4VuIgK4L9y"
      },
      "execution_count": 68,
      "outputs": []
    },
    {
      "cell_type": "code",
      "source": [
        "def test_put_order():\n",
        "    updated_pet = {\n",
        "        \"id\": 6556,\n",
        "        \"name\": \"Franke\",\n",
        "        \"status\": \"sold\"\n",
        "    }\n",
        "    response = requests.put(f\"{BASE_URL}pet\", json=updated_pet)\n",
        "    assert response.status_code == 200\n",
        "    print(\"Питомец обновлен\")"
      ],
      "metadata": {
        "id": "I9GN0Nwu4RV_"
      },
      "execution_count": 69,
      "outputs": []
    },
    {
      "cell_type": "code",
      "source": [
        "def test_delete_order():\n",
        "    response = requests.delete(f\"{BASE_URL}pet/6556\")\n",
        "    assert response.status_code == 200\n",
        "    print(\"Питомец удален\")"
      ],
      "metadata": {
        "id": "chjttJB24Xk8"
      },
      "execution_count": 70,
      "outputs": []
    },
    {
      "cell_type": "code",
      "source": [
        "def test_order_not_found():\n",
        "    time.sleep(1)  # Задержка для обработки удаления\n",
        "    response = requests.get(f\"{BASE_URL}pet/6556\")\n",
        "    assert response.status_code == 404\n",
        "    print(\"Питомец не найден\")"
      ],
      "metadata": {
        "id": "Mmm338yr4dEf"
      },
      "execution_count": 71,
      "outputs": []
    },
    {
      "cell_type": "code",
      "source": [
        "print(\"\\n===Начало тестирования===\")\n",
        "test_post_order()\n",
        "test_get_order()\n",
        "test_put_order()\n",
        "test_delete_order()\n",
        "test_order_not_found()\n",
        "print(\"===Тестирование завершено===\")"
      ],
      "metadata": {
        "colab": {
          "base_uri": "https://localhost:8080/"
        },
        "id": "SQLSMRcv5puW",
        "outputId": "cb193f3c-2b0c-4657-f2b4-72683d3e1a93"
      },
      "execution_count": 72,
      "outputs": [
        {
          "output_type": "stream",
          "name": "stdout",
          "text": [
            "\n",
            "===Начало тестирования===\n",
            "Питомец добавлен\n",
            "Питомец найден\n",
            "Питомец обновлен\n",
            "Питомец удален\n",
            "Питомец не найден\n",
            "===Тестирование завершено===\n"
          ]
        }
      ]
    }
  ]
}